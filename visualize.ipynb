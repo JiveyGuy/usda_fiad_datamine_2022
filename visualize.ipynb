{
 "cells": [
  {
   "cell_type": "markdown",
   "id": "329a9997-6ffd-461c-8248-ca6f5f4e1755",
   "metadata": {},
   "source": [
    "# Visualizing the data\n",
    "\n",
    "Here we make useful and (hopefully) nice to look at visualizations from our work on binning and ofsetting the data. \n",
    "\n",
    "\n",
    "It would be nice to have these things visualized:\n",
    "+ Data set size\n",
    "+ Offset changes\n",
    "+ Density map\n",
    "+ File heads"
   ]
  },
  {
   "cell_type": "code",
   "execution_count": null,
   "id": "8b9566ab-11c3-4e79-a634-6449e921e5e6",
   "metadata": {},
   "outputs": [],
   "source": []
  }
 ],
 "metadata": {
  "kernelspec": {
   "display_name": "f2022-s2023",
   "language": "python",
   "name": "f2022-s2023"
  },
  "language_info": {
   "codemirror_mode": {
    "name": "ipython",
    "version": 3
   },
   "file_extension": ".py",
   "mimetype": "text/x-python",
   "name": "python",
   "nbconvert_exporter": "python",
   "pygments_lexer": "ipython3",
   "version": "3.10.7"
  }
 },
 "nbformat": 4,
 "nbformat_minor": 5
}
