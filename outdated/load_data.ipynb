{
 "cells": [
  {
   "cell_type": "markdown",
   "id": "651cd2a4-e104-42cf-bc4c-c884e7428915",
   "metadata": {},
   "source": [
    "# Loading the data\n",
    "\n",
    "This notebook is for loading the data from .csv data_frame.csv. \n",
    "\n",
    "Currently we are combining the PLOT and TREE tables and getting the DIAM, DIST, AZIMUTH, LONG, LAT, INVYR (measyr is better). "
   ]
  },
  {
   "cell_type": "code",
   "execution_count": 1,
   "id": "1292a2e4-1c3a-40df-9c4e-ab0a2cf3d149",
   "metadata": {},
   "outputs": [],
   "source": [
    "# Imports block\n",
    "import pandas as pd"
   ]
  },
  {
   "cell_type": "code",
   "execution_count": 2,
   "id": "08c730ea-cb6b-4ca9-b734-d0fd400ec83b",
   "metadata": {
    "tags": []
   },
   "outputs": [],
   "source": [
    "# Globals / Constants Block\n",
    "data_path   = \"/anvil/projects/tdm/corporate/forest/data_team/data/AR_CSVs/\"\n",
    "plot_path   = data_path + \"AR_PLOT.csv\"\n",
    "tree_path   = data_path + \"AR_TREE.csv\"\n",
    "output_path = \"/anvil/projects/tdm/corporate/forest/data_team/data/AR_PROCESSED_CSVs\" \n",
    "debug       = True     #set this false to mute debug output\n",
    "loc         = \"GLOBAL\" #this is used for debug to tell us where we are loc(ated)"
   ]
  },
  {
   "cell_type": "code",
   "execution_count": 3,
   "id": "5074bb89-0c70-4a37-a267-c07b0dcd0f08",
   "metadata": {},
   "outputs": [],
   "source": [
    "def debug(txt):\n",
    "    global loc\n",
    "    if ( debug ) :\n",
    "        print(f\" DEBUG:{loc}: {txt}\")"
   ]
  },
  {
   "cell_type": "code",
   "execution_count": 4,
   "id": "658aa90b-f076-45ec-b8be-c04cfcec565f",
   "metadata": {},
   "outputs": [
    {
     "name": "stdout",
     "output_type": "stream",
     "text": [
      " DEBUG:MAIN: tree and plot loaded\n"
     ]
    }
   ],
   "source": [
    "# main block\n",
    "loc       = \"MAIN\"\n",
    "\n",
    "# reading in data with pandas\n",
    "tree_df = pd.read_csv(tree_path, low_memory=False)\n",
    "plot_df = pd.read_csv(plot_path, low_memory=False)\n",
    "debug(\"tree and plot loaded\")"
   ]
  },
  {
   "cell_type": "markdown",
   "id": "3484a1b7-e315-4482-b23e-4f63a02a9978",
   "metadata": {},
   "source": [
    "# combining data"
   ]
  },
  {
   "cell_type": "code",
   "execution_count": 5,
   "id": "6d396621-11d2-41f9-b5c1-578f325c13e4",
   "metadata": {},
   "outputs": [],
   "source": [
    "tree_df = tree_df.drop(\"CN\", axis=1) #drop TREE'S CN\n",
    "plot_df = plot_df.drop(\"INVYR\", axis=1) #drop PLOT'S INVYR"
   ]
  },
  {
   "cell_type": "code",
   "execution_count": 6,
   "id": "b66c7d9f-32c6-402b-ad17-024a9fec65a9",
   "metadata": {},
   "outputs": [],
   "source": [
    "tree_df.rename(columns={'PLT_CN': 'CN'}, inplace=True) # remane PLOT_CN to CN"
   ]
  },
  {
   "cell_type": "code",
   "execution_count": 8,
   "id": "92ab8bbb-4ef8-4a34-af51-42b8a2e70490",
   "metadata": {},
   "outputs": [],
   "source": [
    "df = pd.merge(tree_df, plot_df, on=\"CN\") #merge on matching CNs"
   ]
  },
  {
   "cell_type": "code",
   "execution_count": 9,
   "id": "152d0ab7-73e1-49ff-857e-b586b5628d4a",
   "metadata": {},
   "outputs": [],
   "source": [
    "df2 = df[['DIA', 'INVYR', 'LAT', 'LON', 'ELEV', 'AZIMUTH', 'DIST' ]]"
   ]
  },
  {
   "cell_type": "code",
   "execution_count": 10,
   "id": "eb321e20-5276-47e5-b3b0-7f9df6fa7159",
   "metadata": {},
   "outputs": [
    {
     "name": "stderr",
     "output_type": "stream",
     "text": [
      "/tmp/ipykernel_16/3343054169.py:1: SettingWithCopyWarning: \n",
      "A value is trying to be set on a copy of a slice from a DataFrame.\n",
      "Try using .loc[row_indexer,col_indexer] = value instead\n",
      "\n",
      "See the caveats in the documentation: https://pandas.pydata.org/pandas-docs/stable/user_guide/indexing.html#returning-a-view-versus-a-copy\n",
      "  df2[\"TREE_ID\"] = df.index + 1\n",
      "/tmp/ipykernel_16/3343054169.py:2: SettingWithCopyWarning: \n",
      "A value is trying to be set on a copy of a slice from a DataFrame.\n",
      "Try using .loc[row_indexer,col_indexer] = value instead\n",
      "\n",
      "See the caveats in the documentation: https://pandas.pydata.org/pandas-docs/stable/user_guide/indexing.html#returning-a-view-versus-a-copy\n",
      "  df2[\"TREE_ID\"] = df2[\"TREE_ID\"].astype(str)\n"
     ]
    }
   ],
   "source": [
    "df2[\"TREE_ID\"] = df.index + 1\n",
    "df2[\"TREE_ID\"] = df2[\"TREE_ID\"].astype(str)"
   ]
  },
  {
   "cell_type": "code",
   "execution_count": 11,
   "id": "ff21241f-03c1-4d51-95b2-5f7a6df883e0",
   "metadata": {},
   "outputs": [
    {
     "name": "stderr",
     "output_type": "stream",
     "text": [
      "/tmp/ipykernel_16/14384559.py:3: SettingWithCopyWarning: \n",
      "A value is trying to be set on a copy of a slice from a DataFrame\n",
      "\n",
      "See the caveats in the documentation: https://pandas.pydata.org/pandas-docs/stable/user_guide/indexing.html#returning-a-view-versus-a-copy\n",
      "  df2['TREE_ID'][index] = \"TREE-\"+ df2['TREE_ID'][index]\n"
     ]
    }
   ],
   "source": [
    "# Append TREE- to tree ID \n",
    "for index in df2.index:\n",
    "    df2['TREE_ID'][index] = \"TREE-\"+ df2['TREE_ID'][index]"
   ]
  },
  {
   "cell_type": "code",
   "execution_count": 12,
   "id": "2a4505bb-28f4-4302-b7c0-b3c2f257a3b8",
   "metadata": {},
   "outputs": [],
   "source": [
    "df2.to_csv(output_path+\"/combined.csv\")"
   ]
  }
 ],
 "metadata": {
  "kernelspec": {
   "display_name": "f2022-s2023",
   "language": "python",
   "name": "f2022-s2023"
  },
  "language_info": {
   "codemirror_mode": {
    "name": "ipython",
    "version": 3
   },
   "file_extension": ".py",
   "mimetype": "text/x-python",
   "name": "python",
   "nbconvert_exporter": "python",
   "pygments_lexer": "ipython3",
   "version": "3.10.7"
  }
 },
 "nbformat": 4,
 "nbformat_minor": 5
}
