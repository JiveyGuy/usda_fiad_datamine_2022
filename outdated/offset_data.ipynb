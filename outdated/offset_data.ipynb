{
 "cells": [
  {
   "cell_type": "markdown",
   "id": "392a54ab-7922-46ee-b8d8-a3bf6708be4b",
   "metadata": {
    "tags": []
   },
   "source": [
    "# Offset trees\n",
    "\n",
    "This will be some work, basically we will take the data we loaded and saved to data_frame.csv and offset the trees to the correct longitude and lattitude. "
   ]
  },
  {
   "attachments": {
    "d990a746-2a8d-453f-bb16-69edc56eca3d.png": {
     "image/png": "[encoded data removed]"
    }
   },
   "cell_type": "markdown",
   "id": "d273b2fa-f3a0-458f-8ccb-d366e99143f4",
   "metadata": {},
   "source": [
    "![info.png](attachment:d990a746-2a8d-453f-bb16-69edc56eca3d.png)"
   ]
  },
  {
   "cell_type": "markdown",
   "id": "14931507-5d34-491a-b788-5398143a74be",
   "metadata": {},
   "source": [
    "We will be using the code Andrew Lister (USDA FIA) made in phodar_code_vt.R."
   ]
  },
  {
   "cell_type": "code",
   "execution_count": 2,
   "id": "5073710e-c954-4b89-8340-d65bd0836396",
   "metadata": {},
   "outputs": [],
   "source": [
    "import pandas as pd\n",
    "comb_df_path = \"/anvil/projects/tdm/corporate/forest/data_team/data/AR_PROCESSED_CSVs/combined.csv\" \n",
    "comb_df = pd.read_csv(comb_df_path)"
   ]
  },
  {
   "cell_type": "code",
   "execution_count": 3,
   "id": "ba9bbd4f-857c-4244-b72d-48ca8b4fb319",
   "metadata": {},
   "outputs": [
    {
     "data": {
      "text/html": [
       "<div>\n",
       "<style scoped>\n",
       "    .dataframe tbody tr th:only-of-type {\n",
       "        vertical-align: middle;\n",
       "    }\n",
       "\n",
       "    .dataframe tbody tr th {\n",
       "        vertical-align: top;\n",
       "    }\n",
       "\n",
       "    .dataframe thead th {\n",
       "        text-align: right;\n",
       "    }\n",
       "</style>\n",
       "<table border=\"1\" class=\"dataframe\">\n",
       "  <thead>\n",
       "    <tr style=\"text-align: right;\">\n",
       "      <th></th>\n",
       "      <th>Unnamed: 0</th>\n",
       "      <th>DIA</th>\n",
       "      <th>INVYR</th>\n",
       "      <th>LAT</th>\n",
       "      <th>LON</th>\n",
       "      <th>ELEV</th>\n",
       "      <th>AZIMUTH</th>\n",
       "      <th>DIST</th>\n",
       "      <th>TREE_ID</th>\n",
       "    </tr>\n",
       "  </thead>\n",
       "  <tbody>\n",
       "    <tr>\n",
       "      <th>0</th>\n",
       "      <td>0</td>\n",
       "      <td>17.7</td>\n",
       "      <td>1978</td>\n",
       "      <td>34.33</td>\n",
       "      <td>-91.11</td>\n",
       "      <td>170</td>\n",
       "      <td>NaN</td>\n",
       "      <td>NaN</td>\n",
       "      <td>TREE-1</td>\n",
       "    </tr>\n",
       "    <tr>\n",
       "      <th>1</th>\n",
       "      <td>1</td>\n",
       "      <td>5.8</td>\n",
       "      <td>1978</td>\n",
       "      <td>34.33</td>\n",
       "      <td>-91.11</td>\n",
       "      <td>170</td>\n",
       "      <td>NaN</td>\n",
       "      <td>NaN</td>\n",
       "      <td>TREE-2</td>\n",
       "    </tr>\n",
       "    <tr>\n",
       "      <th>2</th>\n",
       "      <td>2</td>\n",
       "      <td>11.8</td>\n",
       "      <td>1978</td>\n",
       "      <td>34.33</td>\n",
       "      <td>-91.11</td>\n",
       "      <td>170</td>\n",
       "      <td>NaN</td>\n",
       "      <td>NaN</td>\n",
       "      <td>TREE-3</td>\n",
       "    </tr>\n",
       "    <tr>\n",
       "      <th>3</th>\n",
       "      <td>3</td>\n",
       "      <td>2.2</td>\n",
       "      <td>1978</td>\n",
       "      <td>34.33</td>\n",
       "      <td>-91.11</td>\n",
       "      <td>170</td>\n",
       "      <td>NaN</td>\n",
       "      <td>NaN</td>\n",
       "      <td>TREE-4</td>\n",
       "    </tr>\n",
       "    <tr>\n",
       "      <th>4</th>\n",
       "      <td>4</td>\n",
       "      <td>2.6</td>\n",
       "      <td>1978</td>\n",
       "      <td>34.33</td>\n",
       "      <td>-91.11</td>\n",
       "      <td>170</td>\n",
       "      <td>NaN</td>\n",
       "      <td>NaN</td>\n",
       "      <td>TREE-5</td>\n",
       "    </tr>\n",
       "  </tbody>\n",
       "</table>\n",
       "</div>"
      ],
      "text/plain": [
       "   Unnamed: 0   DIA  INVYR    LAT    LON  ELEV  AZIMUTH  DIST TREE_ID\n",
       "0           0  17.7   1978  34.33 -91.11   170      NaN   NaN  TREE-1\n",
       "1           1   5.8   1978  34.33 -91.11   170      NaN   NaN  TREE-2\n",
       "2           2  11.8   1978  34.33 -91.11   170      NaN   NaN  TREE-3\n",
       "3           3   2.2   1978  34.33 -91.11   170      NaN   NaN  TREE-4\n",
       "4           4   2.6   1978  34.33 -91.11   170      NaN   NaN  TREE-5"
      ]
     },
     "execution_count": 3,
     "metadata": {},
     "output_type": "execute_result"
    }
   ],
   "source": [
    "comb_df.head()"
   ]
  },
  {
   "cell_type": "code",
   "execution_count": 5,
   "id": "c89be764-5bba-40ea-9693-4c8af8051d99",
   "metadata": {},
   "outputs": [
    {
     "data": {
      "text/plain": [
       "48.12286387556937"
      ]
     },
     "execution_count": 5,
     "metadata": {},
     "output_type": "execute_result"
    }
   ],
   "source": [
    "100*(comb_df[\"DIST\"].isnull().sum())/len(comb_df)\n",
    "100*(comb_df[\"AZIMUTH\"].isnull().sum())/len(comb_df)"
   ]
  },
  {
   "cell_type": "markdown",
   "id": "26dd6db9-954c-4a98-80f5-cd11c54d0c58",
   "metadata": {},
   "source": [
    "This means that a little under half of the data has no Distance or Azimuth and can't be offset.\n",
    "\n",
    "Due to this we will not offset data. "
   ]
  },
  {
   "cell_type": "code",
   "execution_count": null,
   "id": "0d2e0a66-3613-4755-bb89-0c8445c71d1e",
   "metadata": {},
   "outputs": [],
   "source": []
  }
 ],
 "metadata": {
  "kernelspec": {
   "display_name": "f2022-s2023",
   "language": "python",
   "name": "f2022-s2023"
  },
  "language_info": {
   "codemirror_mode": {
    "name": "ipython",
    "version": 3
   },
   "file_extension": ".py",
   "mimetype": "text/x-python",
   "name": "python",
   "nbconvert_exporter": "python",
   "pygments_lexer": "ipython3",
   "version": "3.10.7"
  }
 },
 "nbformat": 4,
 "nbformat_minor": 5
}
