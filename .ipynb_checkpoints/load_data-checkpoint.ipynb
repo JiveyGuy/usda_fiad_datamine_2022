{
 "cells": [
  {
   "cell_type": "markdown",
   "id": "651cd2a4-e104-42cf-bc4c-c884e7428915",
   "metadata": {},
   "source": [
    "# Loading the data\n",
    "\n",
    "This notebook is for loading the data from either .csv or .db form and saving it to a data_frame.csv. \n",
    "\n",
    "Currently we are combining the PLOT and TREE tables and getting the DIAM, DIST, AZIMUTH, LONG, LAT, INVYR (measyr is better). "
   ]
  },
  {
   "cell_type": "code",
   "execution_count": null,
   "id": "1292a2e4-1c3a-40df-9c4e-ab0a2cf3d149",
   "metadata": {},
   "outputs": [],
   "source": [
    "123"
   ]
  }
 ],
 "metadata": {
  "kernelspec": {
   "display_name": "f2022-s2023",
   "language": "python",
   "name": "f2022-s2023"
  },
  "language_info": {
   "codemirror_mode": {
    "name": "ipython",
    "version": 3
   },
   "file_extension": ".py",
   "mimetype": "text/x-python",
   "name": "python",
   "nbconvert_exporter": "python",
   "pygments_lexer": "ipython3",
   "version": "3.10.7"
  }
 },
 "nbformat": 4,
 "nbformat_minor": 5
}
