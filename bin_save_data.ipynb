{
 "cells": [
  {
   "cell_type": "markdown",
   "id": "021af538-e447-450a-a1a8-c61801a2c011",
   "metadata": {},
   "source": [
    "# Bin then Save\n",
    "\n",
    "This is where the bulk of work has to be done. We will load the data from from the CSV process. "
   ]
  },
  {
   "cell_type": "code",
   "execution_count": 1,
   "id": "b05325a9-cf75-424a-a021-c1d7d5b25484",
   "metadata": {},
   "outputs": [],
   "source": [
    "# Imports block\n",
    "import pandas as pd"
   ]
  },
  {
   "cell_type": "code",
   "execution_count": 2,
   "id": "cf1dbd51-e898-455c-b8be-3551ef8db46e",
   "metadata": {},
   "outputs": [],
   "source": [
    "# Globals / Constants Block\n",
    "data        = \"SQLite_FIADB_ME.csv\"\n",
    "data_path   = \"/anvil/projects/tdm/corporate/forest/data_team/data/CSVs/\" + data\n",
    "output_path = \"/anvil/projects/tdm/corporate/forest/data_team/data/CSVs/\" + \"BINNED_\" + data"
   ]
  },
  {
   "cell_type": "code",
   "execution_count": 3,
   "id": "c13f7e84-67a5-42e6-9ac1-b94d29bf1568",
   "metadata": {},
   "outputs": [
    {
     "data": {
      "text/html": [
       "<div>\n",
       "<style scoped>\n",
       "    .dataframe tbody tr th:only-of-type {\n",
       "        vertical-align: middle;\n",
       "    }\n",
       "\n",
       "    .dataframe tbody tr th {\n",
       "        vertical-align: top;\n",
       "    }\n",
       "\n",
       "    .dataframe thead th {\n",
       "        text-align: right;\n",
       "    }\n",
       "</style>\n",
       "<table border=\"1\" class=\"dataframe\">\n",
       "  <thead>\n",
       "    <tr style=\"text-align: right;\">\n",
       "      <th></th>\n",
       "      <th>INVYR</th>\n",
       "      <th>TREE</th>\n",
       "      <th>PLOT</th>\n",
       "      <th>SUBP</th>\n",
       "      <th>DIA</th>\n",
       "      <th>LAT</th>\n",
       "      <th>LON</th>\n",
       "    </tr>\n",
       "  </thead>\n",
       "  <tbody>\n",
       "    <tr>\n",
       "      <th>0</th>\n",
       "      <td>1995</td>\n",
       "      <td>10002</td>\n",
       "      <td>1</td>\n",
       "      <td>11</td>\n",
       "      <td>1.3</td>\n",
       "      <td>45.13896</td>\n",
       "      <td>-67.19388</td>\n",
       "    </tr>\n",
       "    <tr>\n",
       "      <th>1</th>\n",
       "      <td>1995</td>\n",
       "      <td>10003</td>\n",
       "      <td>1</td>\n",
       "      <td>11</td>\n",
       "      <td>1.8</td>\n",
       "      <td>45.13896</td>\n",
       "      <td>-67.19388</td>\n",
       "    </tr>\n",
       "    <tr>\n",
       "      <th>2</th>\n",
       "      <td>1995</td>\n",
       "      <td>10004</td>\n",
       "      <td>1</td>\n",
       "      <td>11</td>\n",
       "      <td>1.4</td>\n",
       "      <td>45.13896</td>\n",
       "      <td>-67.19388</td>\n",
       "    </tr>\n",
       "    <tr>\n",
       "      <th>3</th>\n",
       "      <td>1995</td>\n",
       "      <td>10003</td>\n",
       "      <td>1</td>\n",
       "      <td>12</td>\n",
       "      <td>1.0</td>\n",
       "      <td>45.13896</td>\n",
       "      <td>-67.19388</td>\n",
       "    </tr>\n",
       "    <tr>\n",
       "      <th>4</th>\n",
       "      <td>1995</td>\n",
       "      <td>10004</td>\n",
       "      <td>1</td>\n",
       "      <td>12</td>\n",
       "      <td>1.2</td>\n",
       "      <td>45.13896</td>\n",
       "      <td>-67.19388</td>\n",
       "    </tr>\n",
       "  </tbody>\n",
       "</table>\n",
       "</div>"
      ],
      "text/plain": [
       "   INVYR   TREE  PLOT  SUBP  DIA       LAT       LON\n",
       "0   1995  10002     1    11  1.3  45.13896 -67.19388\n",
       "1   1995  10003     1    11  1.8  45.13896 -67.19388\n",
       "2   1995  10004     1    11  1.4  45.13896 -67.19388\n",
       "3   1995  10003     1    12  1.0  45.13896 -67.19388\n",
       "4   1995  10004     1    12  1.2  45.13896 -67.19388"
      ]
     },
     "execution_count": 3,
     "metadata": {},
     "output_type": "execute_result"
    }
   ],
   "source": [
    "# reading in data with pandas\n",
    "df = pd.read_csv(data_path) # might need: , low_memory=False\n",
    "df.head()"
   ]
  },
  {
   "cell_type": "code",
   "execution_count": 4,
   "id": "c79c0483-58a0-4b47-8143-828782fd3255",
   "metadata": {},
   "outputs": [
    {
     "name": "stdout",
     "output_type": "stream",
     "text": [
      "(df_first_year, df_last_year) = (1995, 2021)\n"
     ]
    }
   ],
   "source": [
    "df_first_year = df[\"INVYR\"].min()\n",
    "df_last_year  = df[\"INVYR\"].max()\n",
    "print(f\"(df_first_year, df_last_year) = {(df_first_year, df_last_year)}\")"
   ]
  },
  {
   "cell_type": "code",
   "execution_count": 5,
   "id": "bdcfa93e-489d-4d4e-8755-f2fead0ba6a9",
   "metadata": {},
   "outputs": [],
   "source": [
    "# Here we will remove saplings to simplify the density calculations. \n",
    "df = df[df[\"DIA\"] <= 5 ]"
   ]
  },
  {
   "cell_type": "code",
   "execution_count": 6,
   "id": "54f4d4e7-bc86-48bc-970d-358882dd2d8a",
   "metadata": {},
   "outputs": [],
   "source": [
    "# split into years \n",
    "years = df.INVYR.unique()\n",
    "\n",
    "df_year_dict = {year : pd.DataFrame() for year in years}\n",
    "\n",
    "for year in df_year_dict.keys():\n",
    "    df_year_dict[year] = df[:][df.INVYR == year]"
   ]
  },
  {
   "cell_type": "code",
   "execution_count": 7,
   "id": "75167e2d-b086-4459-9294-571493badc09",
   "metadata": {},
   "outputs": [
    {
     "data": {
      "text/plain": [
       "dict_keys([1995, 1999, 2000, 2001, 2002, 2003, 2004, 2005, 2006, 2007, 2008, 2009, 2010, 2011, 2012, 2013, 2014, 2015, 2016, 2017, 2018, 2019, 2020, 2021])"
      ]
     },
     "execution_count": 7,
     "metadata": {},
     "output_type": "execute_result"
    }
   ],
   "source": [
    "df_year_dict.keys()"
   ]
  },
  {
   "cell_type": "markdown",
   "id": "667ae116-0e23-4195-9b6e-a0cbd429a200",
   "metadata": {},
   "source": [
    "# Binning\n",
    "\n",
    "Here we will attempt to calculate tree density and bin the results. "
   ]
  },
  {
   "cell_type": "code",
   "execution_count": 8,
   "id": "69993d2d-c5b2-49c5-83d8-2989af5061ca",
   "metadata": {},
   "outputs": [],
   "source": [
    "# lets first test with 2011\n",
    "\n",
    "df_2011 = df_year_dict[2011]"
   ]
  },
  {
   "cell_type": "code",
   "execution_count": 9,
   "id": "6fc43cf1-b67d-4b3f-bf23-57c210a57d70",
   "metadata": {},
   "outputs": [
    {
     "data": {
      "text/html": [
       "<div>\n",
       "<style scoped>\n",
       "    .dataframe tbody tr th:only-of-type {\n",
       "        vertical-align: middle;\n",
       "    }\n",
       "\n",
       "    .dataframe tbody tr th {\n",
       "        vertical-align: top;\n",
       "    }\n",
       "\n",
       "    .dataframe thead th {\n",
       "        text-align: right;\n",
       "    }\n",
       "</style>\n",
       "<table border=\"1\" class=\"dataframe\">\n",
       "  <thead>\n",
       "    <tr style=\"text-align: right;\">\n",
       "      <th></th>\n",
       "      <th>INVYR</th>\n",
       "      <th>TREE</th>\n",
       "      <th>PLOT</th>\n",
       "      <th>SUBP</th>\n",
       "      <th>DIA</th>\n",
       "      <th>LAT</th>\n",
       "      <th>LON</th>\n",
       "    </tr>\n",
       "  </thead>\n",
       "  <tbody>\n",
       "    <tr>\n",
       "      <th>545824</th>\n",
       "      <td>2011</td>\n",
       "      <td>51</td>\n",
       "      <td>39</td>\n",
       "      <td>1</td>\n",
       "      <td>5.0</td>\n",
       "      <td>45.04286</td>\n",
       "      <td>-67.60261</td>\n",
       "    </tr>\n",
       "    <tr>\n",
       "      <th>545896</th>\n",
       "      <td>2011</td>\n",
       "      <td>8</td>\n",
       "      <td>43</td>\n",
       "      <td>2</td>\n",
       "      <td>5.0</td>\n",
       "      <td>44.94077</td>\n",
       "      <td>-68.06066</td>\n",
       "    </tr>\n",
       "    <tr>\n",
       "      <th>545897</th>\n",
       "      <td>2011</td>\n",
       "      <td>1</td>\n",
       "      <td>43</td>\n",
       "      <td>3</td>\n",
       "      <td>3.2</td>\n",
       "      <td>44.94077</td>\n",
       "      <td>-68.06066</td>\n",
       "    </tr>\n",
       "    <tr>\n",
       "      <th>545907</th>\n",
       "      <td>2011</td>\n",
       "      <td>1</td>\n",
       "      <td>43</td>\n",
       "      <td>4</td>\n",
       "      <td>2.3</td>\n",
       "      <td>44.94077</td>\n",
       "      <td>-68.06066</td>\n",
       "    </tr>\n",
       "    <tr>\n",
       "      <th>545908</th>\n",
       "      <td>2011</td>\n",
       "      <td>3</td>\n",
       "      <td>43</td>\n",
       "      <td>4</td>\n",
       "      <td>2.7</td>\n",
       "      <td>44.94077</td>\n",
       "      <td>-68.06066</td>\n",
       "    </tr>\n",
       "  </tbody>\n",
       "</table>\n",
       "</div>"
      ],
      "text/plain": [
       "        INVYR  TREE  PLOT  SUBP  DIA       LAT       LON\n",
       "545824   2011    51    39     1  5.0  45.04286 -67.60261\n",
       "545896   2011     8    43     2  5.0  44.94077 -68.06066\n",
       "545897   2011     1    43     3  3.2  44.94077 -68.06066\n",
       "545907   2011     1    43     4  2.3  44.94077 -68.06066\n",
       "545908   2011     3    43     4  2.7  44.94077 -68.06066"
      ]
     },
     "execution_count": 9,
     "metadata": {},
     "output_type": "execute_result"
    }
   ],
   "source": [
    "df_2011.head()"
   ]
  },
  {
   "cell_type": "code",
   "execution_count": 10,
   "id": "3ebf87d4-0f30-45d2-b7a4-74a111053500",
   "metadata": {},
   "outputs": [
    {
     "name": "stdout",
     "output_type": "stream",
     "text": [
      "unique trees = 125, unique plots = 612\n"
     ]
    }
   ],
   "source": [
    "print(f\"unique trees = {len(df_2011.TREE.unique())}, unique plots = {len(df_2011.PLOT.unique())}\")"
   ]
  },
  {
   "cell_type": "code",
   "execution_count": 11,
   "id": "d0ee74f2-f05c-47de-bd09-b0c2ada018fa",
   "metadata": {},
   "outputs": [],
   "source": [
    "# from: https://www.statology.org/pandas-remove-duplicates-keep-max/\n",
    "#  This will remove non-unique tree-plot combinations keeping the max DIA\n",
    "df_2011 = df_2011.sort_values('DIA', ascending=False).drop_duplicates(['TREE', 'PLOT']).sort_index()"
   ]
  },
  {
   "cell_type": "code",
   "execution_count": 12,
   "id": "6ef0fe19-547a-4105-9666-5d06aaa5cd90",
   "metadata": {},
   "outputs": [
    {
     "name": "stdout",
     "output_type": "stream",
     "text": [
      "unique trees = 125, unique plots = 612\n"
     ]
    }
   ],
   "source": [
    "print(f\"unique trees = {len(df_2011.TREE.unique())}, unique plots = {len(df_2011.PLOT.unique())}\")"
   ]
  },
  {
   "cell_type": "code",
   "execution_count": 13,
   "id": "c01ceb21-6ae8-4aa6-9859-da4416c91241",
   "metadata": {},
   "outputs": [
    {
     "data": {
      "text/html": [
       "<div>\n",
       "<style scoped>\n",
       "    .dataframe tbody tr th:only-of-type {\n",
       "        vertical-align: middle;\n",
       "    }\n",
       "\n",
       "    .dataframe tbody tr th {\n",
       "        vertical-align: top;\n",
       "    }\n",
       "\n",
       "    .dataframe thead th {\n",
       "        text-align: right;\n",
       "    }\n",
       "</style>\n",
       "<table border=\"1\" class=\"dataframe\">\n",
       "  <thead>\n",
       "    <tr style=\"text-align: right;\">\n",
       "      <th></th>\n",
       "      <th>INVYR</th>\n",
       "      <th>TREE</th>\n",
       "      <th>PLOT</th>\n",
       "      <th>SUBP</th>\n",
       "      <th>DIA</th>\n",
       "      <th>LAT</th>\n",
       "      <th>LON</th>\n",
       "    </tr>\n",
       "  </thead>\n",
       "  <tbody>\n",
       "    <tr>\n",
       "      <th>545824</th>\n",
       "      <td>2011</td>\n",
       "      <td>51</td>\n",
       "      <td>39</td>\n",
       "      <td>1</td>\n",
       "      <td>5.0</td>\n",
       "      <td>45.04286</td>\n",
       "      <td>-67.60261</td>\n",
       "    </tr>\n",
       "    <tr>\n",
       "      <th>545896</th>\n",
       "      <td>2011</td>\n",
       "      <td>8</td>\n",
       "      <td>43</td>\n",
       "      <td>2</td>\n",
       "      <td>5.0</td>\n",
       "      <td>44.94077</td>\n",
       "      <td>-68.06066</td>\n",
       "    </tr>\n",
       "    <tr>\n",
       "      <th>545897</th>\n",
       "      <td>2011</td>\n",
       "      <td>1</td>\n",
       "      <td>43</td>\n",
       "      <td>3</td>\n",
       "      <td>3.2</td>\n",
       "      <td>44.94077</td>\n",
       "      <td>-68.06066</td>\n",
       "    </tr>\n",
       "    <tr>\n",
       "      <th>545908</th>\n",
       "      <td>2011</td>\n",
       "      <td>3</td>\n",
       "      <td>43</td>\n",
       "      <td>4</td>\n",
       "      <td>2.7</td>\n",
       "      <td>44.94077</td>\n",
       "      <td>-68.06066</td>\n",
       "    </tr>\n",
       "    <tr>\n",
       "      <th>545910</th>\n",
       "      <td>2011</td>\n",
       "      <td>5</td>\n",
       "      <td>43</td>\n",
       "      <td>4</td>\n",
       "      <td>2.2</td>\n",
       "      <td>44.94077</td>\n",
       "      <td>-68.06066</td>\n",
       "    </tr>\n",
       "  </tbody>\n",
       "</table>\n",
       "</div>"
      ],
      "text/plain": [
       "        INVYR  TREE  PLOT  SUBP  DIA       LAT       LON\n",
       "545824   2011    51    39     1  5.0  45.04286 -67.60261\n",
       "545896   2011     8    43     2  5.0  44.94077 -68.06066\n",
       "545897   2011     1    43     3  3.2  44.94077 -68.06066\n",
       "545908   2011     3    43     4  2.7  44.94077 -68.06066\n",
       "545910   2011     5    43     4  2.2  44.94077 -68.06066"
      ]
     },
     "execution_count": 13,
     "metadata": {},
     "output_type": "execute_result"
    }
   ],
   "source": [
    "df_2011.head()"
   ]
  },
  {
   "cell_type": "code",
   "execution_count": 15,
   "id": "1786428d-c538-4164-a159-646bfd9e5255",
   "metadata": {},
   "outputs": [],
   "source": [
    "df_2011_density = df_2011[['INVYR', 'LAT', 'LON' ]]\n",
    "df_2011_density "
   ]
  },
  {
   "cell_type": "code",
   "execution_count": null,
   "id": "378ab1c9-3eda-4e7c-a925-e932b10dbbff",
   "metadata": {},
   "outputs": [],
   "source": []
  }
 ],
 "metadata": {
  "kernelspec": {
   "display_name": "f2022-s2023",
   "language": "python",
   "name": "f2022-s2023"
  },
  "language_info": {
   "codemirror_mode": {
    "name": "ipython",
    "version": 3
   },
   "file_extension": ".py",
   "mimetype": "text/x-python",
   "name": "python",
   "nbconvert_exporter": "python",
   "pygments_lexer": "ipython3",
   "version": "3.10.7"
  }
 },
 "nbformat": 4,
 "nbformat_minor": 5
}
