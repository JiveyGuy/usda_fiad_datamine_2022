{
 "cells": [
  {
   "cell_type": "markdown",
   "id": "021af538-e447-450a-a1a8-c61801a2c011",
   "metadata": {},
   "source": [
    "# Bin then Save\n",
    "\n",
    "This is where the bulk of work has to be done. We will load the data from from the CSV process. "
   ]
  },
  {
   "cell_type": "code",
   "execution_count": 1,
   "id": "b05325a9-cf75-424a-a021-c1d7d5b25484",
   "metadata": {},
   "outputs": [],
   "source": [
    "# Imports block\n",
    "import pandas as pd"
   ]
  },
  {
   "cell_type": "code",
   "execution_count": 2,
   "id": "cf1dbd51-e898-455c-b8be-3551ef8db46e",
   "metadata": {},
   "outputs": [],
   "source": [
    "# Globals / Constants Block\n",
    "data        = \"SQLite_FIADB_ME.csv\"\n",
    "data_path   = \"/anvil/projects/tdm/corporate/forest/data_team/data/CSVs/\" + data\n",
    "output_path = \"/anvil/projects/tdm/corporate/forest/data_team/data/CSVs/\" + \"BINNED_\" + data\n",
    "debug       = True     #set this false to mute debug output"
   ]
  },
  {
   "cell_type": "code",
   "execution_count": 3,
   "id": "2301735e-f595-4ce8-97ea-07eb539af486",
   "metadata": {},
   "outputs": [],
   "source": [
    "def debug(txt):\n",
    "    if ( debug ) :\n",
    "        print(f\" DEBUG:{loc}: {txt}\")"
   ]
  },
  {
   "cell_type": "code",
   "execution_count": 4,
   "id": "c13f7e84-67a5-42e6-9ac1-b94d29bf1568",
   "metadata": {},
   "outputs": [
    {
     "data": {
      "text/html": [
       "<div>\n",
       "<style scoped>\n",
       "    .dataframe tbody tr th:only-of-type {\n",
       "        vertical-align: middle;\n",
       "    }\n",
       "\n",
       "    .dataframe tbody tr th {\n",
       "        vertical-align: top;\n",
       "    }\n",
       "\n",
       "    .dataframe thead th {\n",
       "        text-align: right;\n",
       "    }\n",
       "</style>\n",
       "<table border=\"1\" class=\"dataframe\">\n",
       "  <thead>\n",
       "    <tr style=\"text-align: right;\">\n",
       "      <th></th>\n",
       "      <th>INVYR</th>\n",
       "      <th>TREE</th>\n",
       "      <th>PLOT</th>\n",
       "      <th>SUBP</th>\n",
       "      <th>DIA</th>\n",
       "      <th>LAT</th>\n",
       "      <th>LON</th>\n",
       "    </tr>\n",
       "  </thead>\n",
       "  <tbody>\n",
       "    <tr>\n",
       "      <th>0</th>\n",
       "      <td>1995</td>\n",
       "      <td>10002</td>\n",
       "      <td>1</td>\n",
       "      <td>11</td>\n",
       "      <td>1.3</td>\n",
       "      <td>45.13896</td>\n",
       "      <td>-67.19388</td>\n",
       "    </tr>\n",
       "    <tr>\n",
       "      <th>1</th>\n",
       "      <td>1995</td>\n",
       "      <td>10003</td>\n",
       "      <td>1</td>\n",
       "      <td>11</td>\n",
       "      <td>1.8</td>\n",
       "      <td>45.13896</td>\n",
       "      <td>-67.19388</td>\n",
       "    </tr>\n",
       "    <tr>\n",
       "      <th>2</th>\n",
       "      <td>1995</td>\n",
       "      <td>10004</td>\n",
       "      <td>1</td>\n",
       "      <td>11</td>\n",
       "      <td>1.4</td>\n",
       "      <td>45.13896</td>\n",
       "      <td>-67.19388</td>\n",
       "    </tr>\n",
       "    <tr>\n",
       "      <th>3</th>\n",
       "      <td>1995</td>\n",
       "      <td>10003</td>\n",
       "      <td>1</td>\n",
       "      <td>12</td>\n",
       "      <td>1.0</td>\n",
       "      <td>45.13896</td>\n",
       "      <td>-67.19388</td>\n",
       "    </tr>\n",
       "    <tr>\n",
       "      <th>4</th>\n",
       "      <td>1995</td>\n",
       "      <td>10004</td>\n",
       "      <td>1</td>\n",
       "      <td>12</td>\n",
       "      <td>1.2</td>\n",
       "      <td>45.13896</td>\n",
       "      <td>-67.19388</td>\n",
       "    </tr>\n",
       "  </tbody>\n",
       "</table>\n",
       "</div>"
      ],
      "text/plain": [
       "   INVYR   TREE  PLOT  SUBP  DIA       LAT       LON\n",
       "0   1995  10002     1    11  1.3  45.13896 -67.19388\n",
       "1   1995  10003     1    11  1.8  45.13896 -67.19388\n",
       "2   1995  10004     1    11  1.4  45.13896 -67.19388\n",
       "3   1995  10003     1    12  1.0  45.13896 -67.19388\n",
       "4   1995  10004     1    12  1.2  45.13896 -67.19388"
      ]
     },
     "execution_count": 4,
     "metadata": {},
     "output_type": "execute_result"
    }
   ],
   "source": [
    "# reading in data with pandas\n",
    "df = pd.read_csv(data_path) # might need: , low_memory=False\n",
    "df.head()"
   ]
  },
  {
   "cell_type": "code",
   "execution_count": 6,
   "id": "c79c0483-58a0-4b47-8143-828782fd3255",
   "metadata": {},
   "outputs": [
    {
     "name": "stdout",
     "output_type": "stream",
     "text": [
      "(df_first_year, df_last_year) = (1995, 2021)\n"
     ]
    }
   ],
   "source": [
    "df_first_year = df[\"INVYR\"].min()\n",
    "df_last_year  = df[\"INVYR\"].max()\n",
    "print(f\"(df_first_year, df_last_year) = {(df_first_year, df_last_year)}\")"
   ]
  },
  {
   "cell_type": "markdown",
   "id": "4918c85f-8e19-4b1a-8aeb-3b4133507319",
   "metadata": {},
   "source": []
  }
 ],
 "metadata": {
  "kernelspec": {
   "display_name": "f2022-s2023",
   "language": "python",
   "name": "f2022-s2023"
  },
  "language_info": {
   "codemirror_mode": {
    "name": "ipython",
    "version": 3
   },
   "file_extension": ".py",
   "mimetype": "text/x-python",
   "name": "python",
   "nbconvert_exporter": "python",
   "pygments_lexer": "ipython3",
   "version": "3.10.7"
  }
 },
 "nbformat": 4,
 "nbformat_minor": 5
}
