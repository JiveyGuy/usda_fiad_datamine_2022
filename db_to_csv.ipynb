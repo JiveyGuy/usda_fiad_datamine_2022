{
 "cells": [
  {
   "cell_type": "markdown",
   "id": "00d42642-0ee1-48da-8e45-65d56e865154",
   "metadata": {},
   "source": [
    "# Db to CSV\n",
    "The goal of this file is to take the DB files from: \n",
    "And turn them into .CSV files that we will use in this project. \n",
    "\n",
    "\n",
    "\n",
    "Original code from: https://www.alixaprodev.com/2022/04/sqlite-database-to-csv-file-in-python.html"
   ]
  },
  {
   "cell_type": "code",
   "execution_count": 1,
   "id": "1a9905c9-0850-407b-8c57-9d1c34175b15",
   "metadata": {},
   "outputs": [],
   "source": [
    "import csv\n",
    "import sqlite3"
   ]
  },
  {
   "cell_type": "markdown",
   "id": "dc72b9a6-161f-4478-b8e0-797e60fa301d",
   "metadata": {},
   "source": [
    "For this to work you need to have a dir stucture with a data_dir that has subdirs called DBs and CSVs, DBs must have the DBs you wish to read from. "
   ]
  },
  {
   "cell_type": "code",
   "execution_count": 2,
   "id": "6ee40232-5209-4d31-a04b-2f6d69fa2503",
   "metadata": {},
   "outputs": [],
   "source": [
    "state_db_name = \"SQLite_FIADB_ME.db\" #Change to the DB you want. \n",
    "\n",
    "data_path     = \"/anvil/projects/tdm/corporate/forest/data_team/data/\"\n",
    "db_path       = data_path + \"DBs/\"\n",
    "csv_path      = data_path + \"CSVs/\"\n",
    "state_db_path = db_path   + state_db_name\n",
    "output_path   = csv_path  + state_db_name[:len(state_db_name) - 3] + \".csv\" #remove .db and append .csv"
   ]
  },
  {
   "cell_type": "code",
   "execution_count": 3,
   "id": "3c1b7e5c",
   "metadata": {},
   "outputs": [],
   "source": [
    "conn = sqlite3.connect(state_db_path)\n",
    "cursor = conn.cursor()\n",
    "cursor.execute(\"\"\"  SELECT TREE.INVYR, TREE.TREE, PLOT.PLOT, TREE.SUBP, TREE.DIA, PLOT.LAT, PLOT.LON\n",
    "                    FROM TREE\n",
    "                    INNER JOIN PLOT ON TREE.PLT_CN=PLOT.CN \"\"\")\n",
    "\n",
    "with open(output_path, 'w', newline='') as csv_file: \n",
    "    csv_writer = csv.writer(csv_file)\n",
    "    csv_writer.writerow([i[0] for i in cursor.description]) \n",
    "    csv_writer.writerows(cursor)\n",
    "conn.close()"
   ]
  },
  {
   "cell_type": "markdown",
   "id": "db4a20b6-5350-4b18-adc4-3785b6951b55",
   "metadata": {},
   "source": [
    "For each on year and plot:"
   ]
  },
  {
   "cell_type": "code",
   "execution_count": null,
   "id": "57830bcb-7c2b-4bf9-befd-ccb080e165b2",
   "metadata": {},
   "outputs": [],
   "source": []
  }
 ],
 "metadata": {
  "kernelspec": {
   "display_name": "Python 3 (ipykernel)",
   "language": "python",
   "name": "python3"
  },
  "language_info": {
   "codemirror_mode": {
    "name": "ipython",
    "version": 3
   },
   "file_extension": ".py",
   "mimetype": "text/x-python",
   "name": "python",
   "nbconvert_exporter": "python",
   "pygments_lexer": "ipython3",
   "version": "3.10.5"
  }
 },
 "nbformat": 4,
 "nbformat_minor": 5
}
