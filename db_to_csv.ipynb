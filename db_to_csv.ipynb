{
 "cells": [
  {
   "cell_type": "code",
   "execution_count": 2,
   "id": "3c1b7e5c",
   "metadata": {},
   "outputs": [],
   "source": [
    "# from: https://www.alixaprodev.com/2022/04/sqlite-database-to-csv-file-in-python.html\n",
    "\n",
    "import csv\n",
    "import sqlite3\n",
    "\n",
    "conn = sqlite3.connect('FIADB_AR.db')\n",
    "cursor = conn.cursor()\n",
    "cursor.execute(\"\"\"  SELECT TREE.DIA, TREE.INVYR, PLOT.LAT, PLOT.LON, TREE.AZIMUTH, TREE.DIST, PLOT.ELEV\n",
    "                    FROM TREE\n",
    "                    INNER JOIN PLOT ON TREE.PLT_CN=PLOT.CN\n",
    "                    WHERE TREE.INVYR = 2017; \"\"\")\n",
    "\n",
    "\n",
    "with open(\"FIADB_AR.csv\", 'w', newline='') as csv_file: \n",
    "    csv_writer = csv.writer(csv_file)\n",
    "    csv_writer.writerow([i[0] for i in cursor.description]) \n",
    "    csv_writer.writerows(cursor)\n",
    "conn.close()"
   ]
  },
  {
   "cell_type": "code",
   "execution_count": 1,
   "id": "43d897f9",
   "metadata": {},
   "outputs": [
    {
     "name": "stdout",
     "output_type": "stream",
     "text": [
      " Volume in drive C has no label.\n",
      " Volume Serial Number is DA20-DDF0\n",
      "\n",
      " Directory of C:\\Users\\jivey\\devel\\usda_fia\\data\n",
      "\n",
      "10/27/2022  11:06 AM    <DIR>          .\n",
      "11/17/2022  11:39 AM    <DIR>          ..\n",
      "10/25/2022  10:41 AM    <DIR>          .ipynb_checkpoints\n",
      "10/27/2022  11:06 AM             1,437 db_to_csv.ipynb\n",
      "10/27/2022  11:05 AM        27,077,011 FIADB_AR.csv\n",
      "10/25/2022  10:40 AM     2,723,774,464 FIADB_AR.db\n",
      "               3 File(s)  2,750,852,912 bytes\n",
      "               3 Dir(s)  89,076,699,136 bytes free\n"
     ]
    }
   ],
   "source": [
    "!dir"
   ]
  }
 ],
 "metadata": {
  "kernelspec": {
   "display_name": "Python 3 (ipykernel)",
   "language": "python",
   "name": "python3"
  },
  "language_info": {
   "codemirror_mode": {
    "name": "ipython",
    "version": 3
   },
   "file_extension": ".py",
   "mimetype": "text/x-python",
   "name": "python",
   "nbconvert_exporter": "python",
   "pygments_lexer": "ipython3",
   "version": "3.9.13"
  }
 },
 "nbformat": 4,
 "nbformat_minor": 5
}
